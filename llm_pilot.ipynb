{
 "cells": [
  {
   "cell_type": "code",
   "execution_count": 5,
   "metadata": {},
   "outputs": [
    {
     "name": "stdout",
     "output_type": "stream",
     "text": [
      "Note: you may need to restart the kernel to use updated packages.\n"
     ]
    },
    {
     "name": "stderr",
     "output_type": "stream",
     "text": [
      "ERROR: pip's dependency resolver does not currently take into account all the packages that are installed. This behaviour is the source of the following dependency conflicts.\n",
      "tables 3.8.0 requires blosc2~=2.0.0, which is not installed.\n",
      "tables 3.8.0 requires cython>=0.29.21, which is not installed.\n",
      "python-lsp-black 1.2.1 requires black>=22.3.0, but you have black 0.0 which is incompatible.\n"
     ]
    }
   ],
   "source": [
    "%pip install -qU langchain-openai"
   ]
  },
  {
   "cell_type": "code",
   "execution_count": 1,
   "metadata": {},
   "outputs": [],
   "source": [
    "from langchain_openai import OpenAI"
   ]
  },
  {
   "cell_type": "code",
   "execution_count": 2,
   "metadata": {},
   "outputs": [],
   "source": [
    "llm = OpenAI()"
   ]
  },
  {
   "cell_type": "code",
   "execution_count": 3,
   "metadata": {},
   "outputs": [
    {
     "name": "stderr",
     "output_type": "stream",
     "text": [
      "c:\\Users\\hemachandran.d\\AppData\\Local\\anaconda3\\Lib\\site-packages\\langchain_core\\_api\\deprecation.py:119: LangChainDeprecationWarning: The method `BaseLLM.__call__` was deprecated in langchain-core 0.1.7 and will be removed in 0.2.0. Use invoke instead.\n",
      "  warn_deprecated(\n"
     ]
    },
    {
     "data": {
      "text/plain": [
       "\" onto the roof, and sat perched on the edge, surveying its surroundings. It seemed to be enjoying the view, with its tail swishing lazily back and forth.\\n\\nAs the wind picked up, the cat's fur ruffled and its ears perked up. It let out a soft meow, as if in response to the rustling leaves and distant sounds of birds chirping.\\n\\nAfter a few moments, the cat stood up and stretched, arching its back and extending its claws. It then began to carefully make its way along the edge of the roof, balancing gracefully on its four paws.\\n\\nReaching the other side of the roof, the cat jumped down onto a nearby tree branch, using its sharp claws to easily grip onto the bark. It continued to explore its surroundings, jumping from branch to branch and chasing after any birds that dared to come too close.\\n\\nAs the sun began to set, the cat settled onto a comfortable branch and groomed itself, enjoying the peacefulness of the evening. It seemed content and at home in its elevated perch, basking in the last rays of sunlight before settling in for the night. \""
      ]
     },
     "execution_count": 3,
     "metadata": {},
     "output_type": "execute_result"
    }
   ],
   "source": [
    "llm('A cat climbed the wall,')"
   ]
  },
  {
   "cell_type": "code",
   "execution_count": 6,
   "metadata": {},
   "outputs": [],
   "source": [
    "result = llm.generate(['A cat climbed the wall,', 'Jack and Jill'])"
   ]
  },
  {
   "cell_type": "code",
   "execution_count": 7,
   "metadata": {},
   "outputs": [
    {
     "data": {
      "text/plain": [
       "{'title': 'LLMResult',\n",
       " 'description': 'Class that contains all results for a batched LLM call.',\n",
       " 'type': 'object',\n",
       " 'properties': {'generations': {'title': 'Generations',\n",
       "   'type': 'array',\n",
       "   'items': {'type': 'array', 'items': {'$ref': '#/definitions/Generation'}}},\n",
       "  'llm_output': {'title': 'Llm Output', 'type': 'object'},\n",
       "  'run': {'title': 'Run',\n",
       "   'type': 'array',\n",
       "   'items': {'$ref': '#/definitions/RunInfo'}}},\n",
       " 'required': ['generations'],\n",
       " 'definitions': {'Generation': {'title': 'Generation',\n",
       "   'description': 'A single text generation output.',\n",
       "   'type': 'object',\n",
       "   'properties': {'text': {'title': 'Text', 'type': 'string'},\n",
       "    'generation_info': {'title': 'Generation Info', 'type': 'object'},\n",
       "    'type': {'title': 'Type',\n",
       "     'default': 'Generation',\n",
       "     'enum': ['Generation'],\n",
       "     'type': 'string'}},\n",
       "   'required': ['text']},\n",
       "  'RunInfo': {'title': 'RunInfo',\n",
       "   'description': 'Class that contains metadata for a single execution of a Chain or model.',\n",
       "   'type': 'object',\n",
       "   'properties': {'run_id': {'title': 'Run Id',\n",
       "     'type': 'string',\n",
       "     'format': 'uuid'}},\n",
       "   'required': ['run_id']}}}"
      ]
     },
     "execution_count": 7,
     "metadata": {},
     "output_type": "execute_result"
    }
   ],
   "source": [
    "result.schema()"
   ]
  },
  {
   "cell_type": "code",
   "execution_count": 9,
   "metadata": {},
   "outputs": [
    {
     "data": {
      "text/plain": [
       "{'token_usage': {'completion_tokens': 437,\n",
       "  'total_tokens': 446,\n",
       "  'prompt_tokens': 9},\n",
       " 'model_name': 'gpt-3.5-turbo-instruct'}"
      ]
     },
     "execution_count": 9,
     "metadata": {},
     "output_type": "execute_result"
    }
   ],
   "source": [
    "result.llm_output"
   ]
  },
  {
   "cell_type": "code",
   "execution_count": 10,
   "metadata": {},
   "outputs": [
    {
     "data": {
      "text/plain": [
       "[[Generation(text=\" she looked like a ball\\n\\nHer fur was soft and white, she was quite a sight.\\n\\nShe meowed and purred, as she explored\\n\\nHer surroundings new, she had a clue.\\n\\nShe jumped and leaped, so graceful and neat\\n\\nHer agility was a treat, she couldn't be beat.\\n\\nShe perched on a ledge, and sat on the edge\\n\\nHer eyes so bright, she was a beautiful sight.\\n\\nShe watched the birds, with longing and yearns\\n\\nBut she was content, to just observe and learn.\\n\\nThe sun began to set, and she let out a fret\\n\\nFor she knew it was time, to return to her climb.\\n\\nShe descended with grace, and found her safe place\\n\\nHer home up high, in the wall she did spy.\\n\\nThe cat climbed the wall, and had a ball\\n\\nIn her own little world, she was queen of it all.\", generation_info={'finish_reason': 'stop', 'logprobs': None})],\n",
       " [Generation(text='\\n\\nJack and Jill is an American digital media company founded in 1998 by Wendy Goldman Rohm, a former ABC executive. The company produces original content for children and families across multiple platforms, including television, digital media, books, and live events.\\n\\nThe company\\'s flagship brand is Jack and Jill Magazine, a print and digital magazine for children ages 6-12. The magazine includes articles, stories, puzzles, and games designed to entertain and educate children. Jack and Jill also produces a variety of other print and digital publications, including Cobblestone, a history magazine for kids, and Appleseeds, a magazine that explores world cultures and geography.\\n\\nJack and Jill also produces television shows, including the animated series \"The Adventures of Dudley the Dragon\" and \"Chirp,\" which air on PBS and CBC in Canada. The company also produces digital content, such as interactive games and apps, and hosts live events, such as book fairs and author visits.\\n\\nIn addition to its own content, Jack and Jill partners with other organizations to create educational materials for children. For example, the company has worked with the National Wildlife Federation to produce a series of books about animals and their habitats.\\n\\nOverall, Jack and Jill aims to provide fun and educational content for children and families', generation_info={'finish_reason': 'length', 'logprobs': None})]]"
      ]
     },
     "execution_count": 10,
     "metadata": {},
     "output_type": "execute_result"
    }
   ],
   "source": [
    "result.generations"
   ]
  },
  {
   "cell_type": "code",
   "execution_count": null,
   "metadata": {},
   "outputs": [],
   "source": []
  }
 ],
 "metadata": {
  "kernelspec": {
   "display_name": "base",
   "language": "python",
   "name": "python3"
  },
  "language_info": {
   "codemirror_mode": {
    "name": "ipython",
    "version": 3
   },
   "file_extension": ".py",
   "mimetype": "text/x-python",
   "name": "python",
   "nbconvert_exporter": "python",
   "pygments_lexer": "ipython3",
   "version": "3.11.5"
  }
 },
 "nbformat": 4,
 "nbformat_minor": 2
}
