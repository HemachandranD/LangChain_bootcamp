{
 "cells": [
  {
   "cell_type": "markdown",
   "id": "0",
   "metadata": {},
   "source": [
    "<a href = \"https://www.pieriantraining.com\"><img src=\"../PT Centered Purple.png\"> </a>\n",
    "\n",
    "<em style=\"text-align:center\">Copyrighted by Pierian Training</em>"
   ]
  },
  {
   "cell_type": "markdown",
   "id": "1",
   "metadata": {
    "tags": []
   },
   "source": [
    "# Prompts and Models Exercise\n",
    "\n",
    "### NOTE: FEEL FREE TO JUST TREAT THIS AS A CODE ALONG EXAMPLE IF YOU DONT WANT AN EXERCISE BUT RATHER WATCH AN EXAMPLE.\n",
    "\n",
    "**TASK: Create a Python function that uses Prompts and Chat internally to give travel ideas related to two variables:**\n",
    "\n",
    "    * An Interest or Hobby\n",
    "    * A Budget\n",
    "    \n",
    "Remember that you should also decide on a system prompt. The end function will just be a nice wrapper on top of all the previous LangChain components we've discussed earlier."
   ]
  },
  {
   "cell_type": "code",
   "execution_count": null,
   "id": "2",
   "metadata": {},
   "outputs": [],
   "source": [
    "def travel_idea(interest,budget):\n",
    "    '''\n",
    "    INPUTS:\n",
    "        interest: A str interest or hobby (e.g. fishing)\n",
    "        budget: A str budget (e.g. $10,000)\n",
    "    '''\n",
    "    pass"
   ]
  },
  {
   "cell_type": "markdown",
   "id": "3",
   "metadata": {},
   "source": [
    "**Example Solution**\n",
    "\n",
    "Keep in mind your solution may differ slightly, but as long as it works, that's ok!"
   ]
  },
  {
   "cell_type": "code",
   "execution_count": null,
   "id": "4",
   "metadata": {},
   "outputs": [],
   "source": [
    "# DONT FORGET TO SETUP YOUR API KEY!"
   ]
  },
  {
   "cell_type": "code",
   "execution_count": null,
   "id": "5",
   "metadata": {},
   "outputs": [],
   "source": [
    "# DON\"T FORGET YOUR IMPORTS!\n",
    "\n",
    "def travel_idea(interest,budget):\n",
    "    '''\n",
    "    INPUTS:\n",
    "        interest: A str interest or hobby (e.g. fishing)\n",
    "        budget: A str budget (e.g. $10,000)\n",
    "    '''\n",
    "    pass"
   ]
  },
  {
   "cell_type": "code",
   "execution_count": null,
   "id": "6",
   "metadata": {},
   "outputs": [],
   "source": [
    "print(travel_idea('fishing','$10,000'))"
   ]
  }
 ],
 "metadata": {
  "kernelspec": {
   "display_name": "Python 3 (ipykernel)",
   "language": "python",
   "name": "python3"
  },
  "language_info": {
   "codemirror_mode": {
    "name": "ipython",
    "version": 3
   },
   "file_extension": ".py",
   "mimetype": "text/x-python",
   "name": "python",
   "nbconvert_exporter": "python",
   "pygments_lexer": "ipython3",
   "version": "3.9.12"
  }
 },
 "nbformat": 4,
 "nbformat_minor": 5
}
